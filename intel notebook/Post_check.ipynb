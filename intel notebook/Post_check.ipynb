{
 "cells": [
  {
   "cell_type": "code",
   "execution_count": 1,
   "id": "db84223b-bab0-4acf-a387-1cc7ad3e8dcb",
   "metadata": {},
   "outputs": [
    {
     "name": "stdout",
     "output_type": "stream",
     "text": [
      "Defaulting to user installation because normal site-packages is not writeable\n",
      "Requirement already satisfied: tensorflow in ./.local/lib/python3.9/site-packages (2.15.0.post1)\n",
      "Requirement already satisfied: absl-py>=1.0.0 in ./.local/lib/python3.9/site-packages (from tensorflow) (2.1.0)\n",
      "Requirement already satisfied: astunparse>=1.6.0 in ./.local/lib/python3.9/site-packages (from tensorflow) (1.6.3)\n",
      "Requirement already satisfied: flatbuffers>=23.5.26 in ./.local/lib/python3.9/site-packages (from tensorflow) (24.3.7)\n",
      "Requirement already satisfied: gast!=0.5.0,!=0.5.1,!=0.5.2,>=0.2.1 in ./.local/lib/python3.9/site-packages (from tensorflow) (0.5.4)\n",
      "Requirement already satisfied: google-pasta>=0.1.1 in ./.local/lib/python3.9/site-packages (from tensorflow) (0.2.0)\n",
      "Requirement already satisfied: h5py>=2.9.0 in ./.local/lib/python3.9/site-packages (from tensorflow) (3.10.0)\n",
      "Requirement already satisfied: libclang>=13.0.0 in ./.local/lib/python3.9/site-packages (from tensorflow) (16.0.6)\n",
      "Requirement already satisfied: ml-dtypes~=0.2.0 in ./.local/lib/python3.9/site-packages (from tensorflow) (0.2.0)\n",
      "Requirement already satisfied: numpy<2.0.0,>=1.23.5 in /glob/development-tools/versions/oneapi/2024.0.2.1/oneapi/intelpython/lib/python3.9/site-packages (from tensorflow) (1.24.3)\n",
      "Requirement already satisfied: opt-einsum>=2.3.2 in ./.local/lib/python3.9/site-packages (from tensorflow) (3.3.0)\n",
      "Requirement already satisfied: packaging in /glob/development-tools/versions/oneapi/2024.0.2.1/oneapi/intelpython/lib/python3.9/site-packages (from tensorflow) (23.2)\n",
      "Requirement already satisfied: protobuf!=4.21.0,!=4.21.1,!=4.21.2,!=4.21.3,!=4.21.4,!=4.21.5,<5.0.0dev,>=3.20.3 in ./.local/lib/python3.9/site-packages (from tensorflow) (4.25.3)\n",
      "Requirement already satisfied: setuptools in /glob/development-tools/versions/oneapi/2024.0.2.1/oneapi/intelpython/lib/python3.9/site-packages (from tensorflow) (68.2.2)\n",
      "Requirement already satisfied: six>=1.12.0 in /glob/development-tools/versions/oneapi/2024.0.2.1/oneapi/intelpython/lib/python3.9/site-packages (from tensorflow) (1.16.0)\n",
      "Requirement already satisfied: termcolor>=1.1.0 in ./.local/lib/python3.9/site-packages (from tensorflow) (2.4.0)\n",
      "Requirement already satisfied: typing-extensions>=3.6.6 in /glob/development-tools/versions/oneapi/2024.0.2.1/oneapi/intelpython/lib/python3.9/site-packages (from tensorflow) (4.8.0)\n",
      "Requirement already satisfied: wrapt<1.15,>=1.11.0 in ./.local/lib/python3.9/site-packages (from tensorflow) (1.14.1)\n",
      "Requirement already satisfied: tensorflow-io-gcs-filesystem>=0.23.1 in ./.local/lib/python3.9/site-packages (from tensorflow) (0.36.0)\n",
      "Requirement already satisfied: grpcio<2.0,>=1.24.3 in ./.local/lib/python3.9/site-packages (from tensorflow) (1.62.0)\n",
      "Requirement already satisfied: tensorboard<2.16,>=2.15 in ./.local/lib/python3.9/site-packages (from tensorflow) (2.15.2)\n",
      "Requirement already satisfied: tensorflow-estimator<2.16,>=2.15.0 in ./.local/lib/python3.9/site-packages (from tensorflow) (2.15.0)\n",
      "Requirement already satisfied: keras<2.16,>=2.15.0 in ./.local/lib/python3.9/site-packages (from tensorflow) (2.15.0)\n",
      "Requirement already satisfied: wheel<1.0,>=0.23.0 in /glob/development-tools/versions/oneapi/2024.0.2.1/oneapi/intelpython/lib/python3.9/site-packages (from astunparse>=1.6.0->tensorflow) (0.41.2)\n",
      "Requirement already satisfied: google-auth<3,>=1.6.3 in ./.local/lib/python3.9/site-packages (from tensorboard<2.16,>=2.15->tensorflow) (2.28.1)\n",
      "Requirement already satisfied: google-auth-oauthlib<2,>=0.5 in ./.local/lib/python3.9/site-packages (from tensorboard<2.16,>=2.15->tensorflow) (1.2.0)\n",
      "Requirement already satisfied: markdown>=2.6.8 in ./.local/lib/python3.9/site-packages (from tensorboard<2.16,>=2.15->tensorflow) (3.5.2)\n",
      "Requirement already satisfied: requests<3,>=2.21.0 in /glob/development-tools/versions/oneapi/2024.0.2.1/oneapi/intelpython/lib/python3.9/site-packages (from tensorboard<2.16,>=2.15->tensorflow) (2.31.0)\n",
      "Requirement already satisfied: tensorboard-data-server<0.8.0,>=0.7.0 in ./.local/lib/python3.9/site-packages (from tensorboard<2.16,>=2.15->tensorflow) (0.7.2)\n",
      "Requirement already satisfied: werkzeug>=1.0.1 in ./.local/lib/python3.9/site-packages (from tensorboard<2.16,>=2.15->tensorflow) (3.0.1)\n",
      "Requirement already satisfied: cachetools<6.0,>=2.0.0 in ./.local/lib/python3.9/site-packages (from google-auth<3,>=1.6.3->tensorboard<2.16,>=2.15->tensorflow) (5.3.3)\n",
      "Requirement already satisfied: pyasn1-modules>=0.2.1 in ./.local/lib/python3.9/site-packages (from google-auth<3,>=1.6.3->tensorboard<2.16,>=2.15->tensorflow) (0.3.0)\n",
      "Requirement already satisfied: rsa<5,>=3.1.4 in ./.local/lib/python3.9/site-packages (from google-auth<3,>=1.6.3->tensorboard<2.16,>=2.15->tensorflow) (4.9)\n",
      "Requirement already satisfied: requests-oauthlib>=0.7.0 in ./.local/lib/python3.9/site-packages (from google-auth-oauthlib<2,>=0.5->tensorboard<2.16,>=2.15->tensorflow) (1.3.1)\n",
      "Requirement already satisfied: importlib-metadata>=4.4 in /glob/development-tools/versions/oneapi/2024.0.2.1/oneapi/intelpython/lib/python3.9/site-packages (from markdown>=2.6.8->tensorboard<2.16,>=2.15->tensorflow) (7.0.1)\n",
      "Requirement already satisfied: charset-normalizer<4,>=2 in /glob/development-tools/versions/oneapi/2024.0.2.1/oneapi/intelpython/lib/python3.9/site-packages (from requests<3,>=2.21.0->tensorboard<2.16,>=2.15->tensorflow) (3.3.0)\n",
      "Requirement already satisfied: idna<4,>=2.5 in /glob/development-tools/versions/oneapi/2024.0.2.1/oneapi/intelpython/lib/python3.9/site-packages (from requests<3,>=2.21.0->tensorboard<2.16,>=2.15->tensorflow) (3.4)\n",
      "Requirement already satisfied: urllib3<3,>=1.21.1 in /glob/development-tools/versions/oneapi/2024.0.2.1/oneapi/intelpython/lib/python3.9/site-packages (from requests<3,>=2.21.0->tensorboard<2.16,>=2.15->tensorflow) (2.0.7)\n",
      "Requirement already satisfied: certifi>=2017.4.17 in /glob/development-tools/versions/oneapi/2024.0.2.1/oneapi/intelpython/lib/python3.9/site-packages (from requests<3,>=2.21.0->tensorboard<2.16,>=2.15->tensorflow) (2023.7.22)\n",
      "Requirement already satisfied: MarkupSafe>=2.1.1 in ./.local/lib/python3.9/site-packages (from werkzeug>=1.0.1->tensorboard<2.16,>=2.15->tensorflow) (2.1.5)\n",
      "Requirement already satisfied: zipp>=0.5 in /glob/development-tools/versions/oneapi/2024.0.2.1/oneapi/intelpython/lib/python3.9/site-packages (from importlib-metadata>=4.4->markdown>=2.6.8->tensorboard<2.16,>=2.15->tensorflow) (3.17.0)\n",
      "Requirement already satisfied: pyasn1<0.6.0,>=0.4.6 in ./.local/lib/python3.9/site-packages (from pyasn1-modules>=0.2.1->google-auth<3,>=1.6.3->tensorboard<2.16,>=2.15->tensorflow) (0.5.1)\n",
      "Requirement already satisfied: oauthlib>=3.0.0 in ./.local/lib/python3.9/site-packages (from requests-oauthlib>=0.7.0->google-auth-oauthlib<2,>=0.5->tensorboard<2.16,>=2.15->tensorflow) (3.2.2)\n",
      "Note: you may need to restart the kernel to use updated packages.\n"
     ]
    }
   ],
   "source": [
    "pip install tensorflow"
   ]
  },
  {
   "cell_type": "code",
   "execution_count": null,
   "id": "c72a4fea-f432-4a69-a224-c0ad79296f62",
   "metadata": {},
   "outputs": [],
   "source": [
    "pip install fsspec"
   ]
  },
  {
   "cell_type": "code",
   "execution_count": 3,
   "id": "7e23d2ae-b8eb-46f0-84cb-2bf26dba1f3a",
   "metadata": {},
   "outputs": [
    {
     "name": "stdout",
     "output_type": "stream",
     "text": [
      "Defaulting to user installation because normal site-packages is not writeable\n",
      "Requirement already satisfied: scikit-learn in /glob/development-tools/versions/oneapi/2024.0.2.1/oneapi/intelpython/lib/python3.9/site-packages (1.3.1)\n",
      "Requirement already satisfied: numpy<2.0,>=1.17.3 in /glob/development-tools/versions/oneapi/2024.0.2.1/oneapi/intelpython/lib/python3.9/site-packages (from scikit-learn) (1.24.3)\n",
      "Requirement already satisfied: scipy>=1.5.0 in /glob/development-tools/versions/oneapi/2024.0.2.1/oneapi/intelpython/lib/python3.9/site-packages (from scikit-learn) (1.10.1)\n",
      "Requirement already satisfied: joblib>=1.1.1 in /glob/development-tools/versions/oneapi/2024.0.2.1/oneapi/intelpython/lib/python3.9/site-packages (from scikit-learn) (1.3.2)\n",
      "Requirement already satisfied: threadpoolctl>=2.0.0 in /glob/development-tools/versions/oneapi/2024.0.2.1/oneapi/intelpython/lib/python3.9/site-packages (from scikit-learn) (3.2.0)\n",
      "Note: you may need to restart the kernel to use updated packages.\n"
     ]
    }
   ],
   "source": [
    "pip install scikit-learn"
   ]
  },
  {
   "cell_type": "code",
   "execution_count": 4,
   "id": "6958db4b-a47d-4772-befc-e6e711ac598b",
   "metadata": {},
   "outputs": [
    {
     "name": "stdout",
     "output_type": "stream",
     "text": [
      "Defaulting to user installation because normal site-packages is not writeable\n",
      "Requirement already satisfied: bs4 in ./.local/lib/python3.9/site-packages (0.0.2)\n",
      "Requirement already satisfied: beautifulsoup4 in ./.local/lib/python3.9/site-packages (from bs4) (4.12.3)\n",
      "Requirement already satisfied: soupsieve>1.2 in ./.local/lib/python3.9/site-packages (from beautifulsoup4->bs4) (2.5)\n",
      "Note: you may need to restart the kernel to use updated packages.\n"
     ]
    }
   ],
   "source": [
    "pip install bs4"
   ]
  },
  {
   "cell_type": "markdown",
   "id": "b6036fcb-3cef-4fd0-8829-1b316f573cc4",
   "metadata": {},
   "source": [
    "<h2 style=\"color:red;\">Installing Intel Packages</h2>"
   ]
  },
  {
   "cell_type": "code",
   "execution_count": 5,
   "id": "d86aa616-ff04-4568-b24e-578301f18543",
   "metadata": {},
   "outputs": [
    {
     "name": "stdout",
     "output_type": "stream",
     "text": [
      "Defaulting to user installation because normal site-packages is not writeable\n",
      "Requirement already satisfied: scikit-learn-intelex in ./.local/lib/python3.9/site-packages (2024.1.0)\n",
      "Requirement already satisfied: daal4py==2024.1.0 in ./.local/lib/python3.9/site-packages (from scikit-learn-intelex) (2024.1.0)\n",
      "Requirement already satisfied: scikit-learn>=0.22 in /glob/development-tools/versions/oneapi/2024.0.2.1/oneapi/intelpython/lib/python3.9/site-packages (from scikit-learn-intelex) (1.3.1)\n",
      "Requirement already satisfied: daal==2024.1.0 in ./.local/lib/python3.9/site-packages (from daal4py==2024.1.0->scikit-learn-intelex) (2024.1.0)\n",
      "Requirement already satisfied: numpy>=1.19 in /glob/development-tools/versions/oneapi/2024.0.2.1/oneapi/intelpython/lib/python3.9/site-packages (from daal4py==2024.1.0->scikit-learn-intelex) (1.24.3)\n",
      "Requirement already satisfied: tbb==2021.* in ./.local/lib/python3.9/site-packages (from daal==2024.1.0->daal4py==2024.1.0->scikit-learn-intelex) (2021.11.0)\n",
      "Requirement already satisfied: scipy>=1.5.0 in /glob/development-tools/versions/oneapi/2024.0.2.1/oneapi/intelpython/lib/python3.9/site-packages (from scikit-learn>=0.22->scikit-learn-intelex) (1.10.1)\n",
      "Requirement already satisfied: joblib>=1.1.1 in /glob/development-tools/versions/oneapi/2024.0.2.1/oneapi/intelpython/lib/python3.9/site-packages (from scikit-learn>=0.22->scikit-learn-intelex) (1.3.2)\n",
      "Requirement already satisfied: threadpoolctl>=2.0.0 in /glob/development-tools/versions/oneapi/2024.0.2.1/oneapi/intelpython/lib/python3.9/site-packages (from scikit-learn>=0.22->scikit-learn-intelex) (3.2.0)\n",
      "Note: you may need to restart the kernel to use updated packages.\n"
     ]
    }
   ],
   "source": [
    "pip install scikit-learn-intelex\n"
   ]
  },
  {
   "cell_type": "code",
   "execution_count": 1,
   "id": "4b559aff-3490-40d0-a2af-e2fe0e42cc73",
   "metadata": {},
   "outputs": [
    {
     "name": "stdout",
     "output_type": "stream",
     "text": [
      "Defaulting to user installation because normal site-packages is not writeable\n",
      "Collecting intel-tensorflow\n",
      "  Downloading intel_tensorflow-2.14.0-cp39-cp39-manylinux_2_17_x86_64.manylinux2014_x86_64.whl.metadata (4.1 kB)\n",
      "Requirement already satisfied: absl-py>=1.0.0 in ./.local/lib/python3.9/site-packages (from intel-tensorflow) (2.1.0)\n",
      "Requirement already satisfied: astunparse>=1.6.0 in ./.local/lib/python3.9/site-packages (from intel-tensorflow) (1.6.3)\n",
      "Requirement already satisfied: flatbuffers>=23.5.26 in ./.local/lib/python3.9/site-packages (from intel-tensorflow) (24.3.7)\n",
      "Requirement already satisfied: gast!=0.5.0,!=0.5.1,!=0.5.2,>=0.2.1 in ./.local/lib/python3.9/site-packages (from intel-tensorflow) (0.5.4)\n",
      "Requirement already satisfied: google-pasta>=0.1.1 in ./.local/lib/python3.9/site-packages (from intel-tensorflow) (0.2.0)\n",
      "Requirement already satisfied: h5py>=2.9.0 in ./.local/lib/python3.9/site-packages (from intel-tensorflow) (3.10.0)\n",
      "Requirement already satisfied: libclang>=13.0.0 in ./.local/lib/python3.9/site-packages (from intel-tensorflow) (16.0.6)\n",
      "Requirement already satisfied: ml-dtypes==0.2.0 in ./.local/lib/python3.9/site-packages (from intel-tensorflow) (0.2.0)\n",
      "Requirement already satisfied: numpy>=1.23.5 in /glob/development-tools/versions/oneapi/2024.0.2.1/oneapi/intelpython/lib/python3.9/site-packages (from intel-tensorflow) (1.24.3)\n",
      "Requirement already satisfied: opt-einsum>=2.3.2 in ./.local/lib/python3.9/site-packages (from intel-tensorflow) (3.3.0)\n",
      "Requirement already satisfied: packaging in /glob/development-tools/versions/oneapi/2024.0.2.1/oneapi/intelpython/lib/python3.9/site-packages (from intel-tensorflow) (23.2)\n",
      "Requirement already satisfied: protobuf!=4.21.0,!=4.21.1,!=4.21.2,!=4.21.3,!=4.21.4,!=4.21.5,<5.0.0dev,>=3.20.3 in ./.local/lib/python3.9/site-packages (from intel-tensorflow) (4.25.3)\n",
      "Requirement already satisfied: setuptools in /glob/development-tools/versions/oneapi/2024.0.2.1/oneapi/intelpython/lib/python3.9/site-packages (from intel-tensorflow) (68.2.2)\n",
      "Requirement already satisfied: six>=1.12.0 in /glob/development-tools/versions/oneapi/2024.0.2.1/oneapi/intelpython/lib/python3.9/site-packages (from intel-tensorflow) (1.16.0)\n",
      "Requirement already satisfied: termcolor>=1.1.0 in ./.local/lib/python3.9/site-packages (from intel-tensorflow) (2.4.0)\n",
      "Requirement already satisfied: typing-extensions>=3.6.6 in /glob/development-tools/versions/oneapi/2024.0.2.1/oneapi/intelpython/lib/python3.9/site-packages (from intel-tensorflow) (4.8.0)\n",
      "Requirement already satisfied: wrapt<1.15,>=1.11.0 in ./.local/lib/python3.9/site-packages (from intel-tensorflow) (1.14.1)\n",
      "Requirement already satisfied: tensorflow-io-gcs-filesystem>=0.23.1 in ./.local/lib/python3.9/site-packages (from intel-tensorflow) (0.36.0)\n",
      "Requirement already satisfied: grpcio<2.0,>=1.24.3 in ./.local/lib/python3.9/site-packages (from intel-tensorflow) (1.62.0)\n",
      "Collecting tensorboard<2.15,>=2.14 (from intel-tensorflow)\n",
      "  Downloading tensorboard-2.14.1-py3-none-any.whl.metadata (1.7 kB)\n",
      "Collecting tensorflow-estimator<2.15,>=2.14.0 (from intel-tensorflow)\n",
      "  Downloading tensorflow_estimator-2.14.0-py2.py3-none-any.whl.metadata (1.3 kB)\n",
      "Collecting keras<2.15,>=2.14.0 (from intel-tensorflow)\n",
      "  Downloading keras-2.14.0-py3-none-any.whl.metadata (2.4 kB)\n",
      "Requirement already satisfied: wheel<1.0,>=0.23.0 in /glob/development-tools/versions/oneapi/2024.0.2.1/oneapi/intelpython/lib/python3.9/site-packages (from astunparse>=1.6.0->intel-tensorflow) (0.41.2)\n",
      "Requirement already satisfied: google-auth<3,>=1.6.3 in ./.local/lib/python3.9/site-packages (from tensorboard<2.15,>=2.14->intel-tensorflow) (2.28.1)\n",
      "Collecting google-auth-oauthlib<1.1,>=0.5 (from tensorboard<2.15,>=2.14->intel-tensorflow)\n",
      "  Downloading google_auth_oauthlib-1.0.0-py2.py3-none-any.whl.metadata (2.7 kB)\n",
      "Requirement already satisfied: markdown>=2.6.8 in ./.local/lib/python3.9/site-packages (from tensorboard<2.15,>=2.14->intel-tensorflow) (3.5.2)\n",
      "Requirement already satisfied: requests<3,>=2.21.0 in /glob/development-tools/versions/oneapi/2024.0.2.1/oneapi/intelpython/lib/python3.9/site-packages (from tensorboard<2.15,>=2.14->intel-tensorflow) (2.31.0)\n",
      "Requirement already satisfied: tensorboard-data-server<0.8.0,>=0.7.0 in ./.local/lib/python3.9/site-packages (from tensorboard<2.15,>=2.14->intel-tensorflow) (0.7.2)\n",
      "Requirement already satisfied: werkzeug>=1.0.1 in ./.local/lib/python3.9/site-packages (from tensorboard<2.15,>=2.14->intel-tensorflow) (3.0.1)\n",
      "Requirement already satisfied: cachetools<6.0,>=2.0.0 in ./.local/lib/python3.9/site-packages (from google-auth<3,>=1.6.3->tensorboard<2.15,>=2.14->intel-tensorflow) (5.3.3)\n",
      "Requirement already satisfied: pyasn1-modules>=0.2.1 in ./.local/lib/python3.9/site-packages (from google-auth<3,>=1.6.3->tensorboard<2.15,>=2.14->intel-tensorflow) (0.3.0)\n",
      "Requirement already satisfied: rsa<5,>=3.1.4 in ./.local/lib/python3.9/site-packages (from google-auth<3,>=1.6.3->tensorboard<2.15,>=2.14->intel-tensorflow) (4.9)\n",
      "Requirement already satisfied: requests-oauthlib>=0.7.0 in ./.local/lib/python3.9/site-packages (from google-auth-oauthlib<1.1,>=0.5->tensorboard<2.15,>=2.14->intel-tensorflow) (1.3.1)\n",
      "Requirement already satisfied: importlib-metadata>=4.4 in /glob/development-tools/versions/oneapi/2024.0.2.1/oneapi/intelpython/lib/python3.9/site-packages (from markdown>=2.6.8->tensorboard<2.15,>=2.14->intel-tensorflow) (7.0.1)\n",
      "Requirement already satisfied: charset-normalizer<4,>=2 in /glob/development-tools/versions/oneapi/2024.0.2.1/oneapi/intelpython/lib/python3.9/site-packages (from requests<3,>=2.21.0->tensorboard<2.15,>=2.14->intel-tensorflow) (3.3.0)\n",
      "Requirement already satisfied: idna<4,>=2.5 in /glob/development-tools/versions/oneapi/2024.0.2.1/oneapi/intelpython/lib/python3.9/site-packages (from requests<3,>=2.21.0->tensorboard<2.15,>=2.14->intel-tensorflow) (3.4)\n",
      "Requirement already satisfied: urllib3<3,>=1.21.1 in /glob/development-tools/versions/oneapi/2024.0.2.1/oneapi/intelpython/lib/python3.9/site-packages (from requests<3,>=2.21.0->tensorboard<2.15,>=2.14->intel-tensorflow) (2.0.7)\n",
      "Requirement already satisfied: certifi>=2017.4.17 in /glob/development-tools/versions/oneapi/2024.0.2.1/oneapi/intelpython/lib/python3.9/site-packages (from requests<3,>=2.21.0->tensorboard<2.15,>=2.14->intel-tensorflow) (2023.7.22)\n",
      "Requirement already satisfied: MarkupSafe>=2.1.1 in ./.local/lib/python3.9/site-packages (from werkzeug>=1.0.1->tensorboard<2.15,>=2.14->intel-tensorflow) (2.1.5)\n",
      "Requirement already satisfied: zipp>=0.5 in /glob/development-tools/versions/oneapi/2024.0.2.1/oneapi/intelpython/lib/python3.9/site-packages (from importlib-metadata>=4.4->markdown>=2.6.8->tensorboard<2.15,>=2.14->intel-tensorflow) (3.17.0)\n",
      "Requirement already satisfied: pyasn1<0.6.0,>=0.4.6 in ./.local/lib/python3.9/site-packages (from pyasn1-modules>=0.2.1->google-auth<3,>=1.6.3->tensorboard<2.15,>=2.14->intel-tensorflow) (0.5.1)\n",
      "Requirement already satisfied: oauthlib>=3.0.0 in ./.local/lib/python3.9/site-packages (from requests-oauthlib>=0.7.0->google-auth-oauthlib<1.1,>=0.5->tensorboard<2.15,>=2.14->intel-tensorflow) (3.2.2)\n",
      "Downloading intel_tensorflow-2.14.0-cp39-cp39-manylinux_2_17_x86_64.manylinux2014_x86_64.whl (249.9 MB)\n",
      "\u001b[2K   \u001b[90m━━━━━━━━━━━━━━━━━━━━━━━━━━━━━━━━━━━━━━━━\u001b[0m \u001b[32m249.9/249.9 MB\u001b[0m \u001b[31m1.9 MB/s\u001b[0m eta \u001b[36m0:00:00\u001b[0m00:01\u001b[0m00:02\u001b[0m\n",
      "\u001b[?25hDownloading keras-2.14.0-py3-none-any.whl (1.7 MB)\n",
      "\u001b[2K   \u001b[90m━━━━━━━━━━━━━━━━━━━━━━━━━━━━━━━━━━━━━━━━\u001b[0m \u001b[32m1.7/1.7 MB\u001b[0m \u001b[31m2.9 MB/s\u001b[0m eta \u001b[36m0:00:00\u001b[0m00:01\u001b[0m00:01\u001b[0m\n",
      "\u001b[?25hDownloading tensorboard-2.14.1-py3-none-any.whl (5.5 MB)\n",
      "\u001b[2K   \u001b[90m━━━━━━━━━━━━━━━━━━━━━━━━━━━━━━━━━━━━━━━━\u001b[0m \u001b[32m5.5/5.5 MB\u001b[0m \u001b[31m3.6 MB/s\u001b[0m eta \u001b[36m0:00:00\u001b[0m00:01\u001b[0m00:01\u001b[0m\n",
      "\u001b[?25hDownloading tensorflow_estimator-2.14.0-py2.py3-none-any.whl (440 kB)\n",
      "\u001b[2K   \u001b[90m━━━━━━━━━━━━━━━━━━━━━━━━━━━━━━━━━━━━━━━━\u001b[0m \u001b[32m440.7/440.7 kB\u001b[0m \u001b[31m1.8 MB/s\u001b[0m eta \u001b[36m0:00:00\u001b[0m00:01\u001b[0m00:01\u001b[0m\n",
      "\u001b[?25hDownloading google_auth_oauthlib-1.0.0-py2.py3-none-any.whl (18 kB)\n",
      "Installing collected packages: tensorflow-estimator, keras, google-auth-oauthlib, tensorboard, intel-tensorflow\n",
      "  Attempting uninstall: tensorflow-estimator\n",
      "    Found existing installation: tensorflow-estimator 2.15.0\n",
      "    Uninstalling tensorflow-estimator-2.15.0:\n",
      "      Successfully uninstalled tensorflow-estimator-2.15.0\n",
      "  Attempting uninstall: keras\n",
      "    Found existing installation: keras 2.15.0\n",
      "    Uninstalling keras-2.15.0:\n",
      "      Successfully uninstalled keras-2.15.0\n",
      "  Attempting uninstall: google-auth-oauthlib\n",
      "    Found existing installation: google-auth-oauthlib 1.2.0\n",
      "    Uninstalling google-auth-oauthlib-1.2.0:\n",
      "      Successfully uninstalled google-auth-oauthlib-1.2.0\n",
      "  Attempting uninstall: tensorboard\n",
      "    Found existing installation: tensorboard 2.15.2\n",
      "    Uninstalling tensorboard-2.15.2:\n",
      "      Successfully uninstalled tensorboard-2.15.2\n",
      "\u001b[31mERROR: pip's dependency resolver does not currently take into account all the packages that are installed. This behaviour is the source of the following dependency conflicts.\n",
      "tensorflow 2.15.0.post1 requires keras<2.16,>=2.15.0, but you have keras 2.14.0 which is incompatible.\n",
      "tensorflow 2.15.0.post1 requires tensorboard<2.16,>=2.15, but you have tensorboard 2.14.1 which is incompatible.\n",
      "tensorflow 2.15.0.post1 requires tensorflow-estimator<2.16,>=2.15.0, but you have tensorflow-estimator 2.14.0 which is incompatible.\u001b[0m\u001b[31m\n",
      "\u001b[0mSuccessfully installed google-auth-oauthlib-1.0.0 intel-tensorflow-2.14.0 keras-2.14.0 tensorboard-2.14.1 tensorflow-estimator-2.14.0\n",
      "Note: you may need to restart the kernel to use updated packages.\n"
     ]
    }
   ],
   "source": [
    "pip install intel-tensorflow"
   ]
  },
  {
   "cell_type": "code",
   "execution_count": 6,
   "id": "3f40e0f5-c4ed-41d5-a71b-bba6840aade1",
   "metadata": {},
   "outputs": [
    {
     "name": "stdout",
     "output_type": "stream",
     "text": [
      "Defaulting to user installation because normal site-packages is not writeable\n",
      "Requirement already satisfied: onednn-cpu-gomp in ./.local/lib/python3.9/site-packages (2023.2.0)\n",
      "Note: you may need to restart the kernel to use updated packages.\n"
     ]
    }
   ],
   "source": [
    "pip install onednn-cpu-gomp"
   ]
  },
  {
   "cell_type": "code",
   "execution_count": 4,
   "id": "b6ef4e18-dff6-473f-a761-fa1211c8d3dd",
   "metadata": {},
   "outputs": [
    {
     "name": "stdout",
     "output_type": "stream",
     "text": [
      "Defaulting to user installation because normal site-packages is not writeable\n",
      "Collecting onednn\n",
      "  Downloading onednn-2024.0.0-py2.py3-none-manylinux1_x86_64.whl.metadata (1.3 kB)\n",
      "Collecting intel-opencl-rt==2024.* (from onednn)\n",
      "  Downloading intel_opencl_rt-2024.0.2-py2.py3-none-manylinux1_x86_64.whl.metadata (1.2 kB)\n",
      "Collecting dpcpp-cpp-rt==2024.* (from onednn)\n",
      "  Downloading dpcpp_cpp_rt-2024.0.2-py2.py3-none-manylinux1_x86_64.whl.metadata (1.3 kB)\n",
      "Collecting intel-openmp==2024.0.2 (from dpcpp-cpp-rt==2024.*->onednn)\n",
      "  Downloading intel_openmp-2024.0.2-py2.py3-none-manylinux1_x86_64.whl.metadata (1.2 kB)\n",
      "Collecting intel-cmplr-lib-rt==2024.0.2 (from dpcpp-cpp-rt==2024.*->onednn)\n",
      "  Downloading intel_cmplr_lib_rt-2024.0.2-py2.py3-none-manylinux1_x86_64.whl.metadata (1.2 kB)\n",
      "Collecting intel-cmplr-lic-rt==2024.0.2 (from dpcpp-cpp-rt==2024.*->onednn)\n",
      "  Downloading intel_cmplr_lic_rt-2024.0.2-py2.py3-none-manylinux1_x86_64.whl.metadata (1.2 kB)\n",
      "Requirement already satisfied: tbb==2021.* in ./.local/lib/python3.9/site-packages (from intel-opencl-rt==2024.*->onednn) (2021.11.0)\n",
      "Downloading onednn-2024.0.0-py2.py3-none-manylinux1_x86_64.whl (70.9 MB)\n",
      "\u001b[2K   \u001b[90m━━━━━━━━━━━━━━━━━━━━━━━━━━━━━━━━━━━━━━━━\u001b[0m \u001b[32m70.9/70.9 MB\u001b[0m \u001b[31m2.8 MB/s\u001b[0m eta \u001b[36m0:00:00\u001b[0m00:01\u001b[0m00:01\u001b[0m\n",
      "\u001b[?25hDownloading dpcpp_cpp_rt-2024.0.2-py2.py3-none-manylinux1_x86_64.whl (6.9 MB)\n",
      "\u001b[2K   \u001b[90m━━━━━━━━━━━━━━━━━━━━━━━━━━━━━━━━━━━━━━━━\u001b[0m \u001b[32m6.9/6.9 MB\u001b[0m \u001b[31m3.8 MB/s\u001b[0m eta \u001b[36m0:00:00\u001b[0m00:01\u001b[0m00:01\u001b[0m\n",
      "\u001b[?25hDownloading intel_opencl_rt-2024.0.2-py2.py3-none-manylinux1_x86_64.whl (253.3 MB)\n",
      "\u001b[2K   \u001b[90m━━━━━━━━━━━━━━━━━━━━━━━━━━━━━━━━━━━━━━━━\u001b[0m \u001b[32m253.3/253.3 MB\u001b[0m \u001b[31m1.5 MB/s\u001b[0m eta \u001b[36m0:00:00\u001b[0m00:01\u001b[0m00:02\u001b[0m\n",
      "\u001b[?25hDownloading intel_cmplr_lib_rt-2024.0.2-py2.py3-none-manylinux1_x86_64.whl (69.2 MB)\n",
      "\u001b[2K   \u001b[90m━━━━━━━━━━━━━━━━━━━━━━━━━━━━━━━━━━━━━━━━\u001b[0m \u001b[32m69.2/69.2 MB\u001b[0m \u001b[31m2.7 MB/s\u001b[0m eta \u001b[36m0:00:00\u001b[0m00:01\u001b[0m00:01\u001b[0m\n",
      "\u001b[?25hDownloading intel_cmplr_lic_rt-2024.0.2-py2.py3-none-manylinux1_x86_64.whl (19 kB)\n",
      "Downloading intel_openmp-2024.0.2-py2.py3-none-manylinux1_x86_64.whl (28.6 MB)\n",
      "\u001b[2K   \u001b[90m━━━━━━━━━━━━━━━━━━━━━━━━━━━━━━━━━━━━━━━━\u001b[0m \u001b[32m28.6/28.6 MB\u001b[0m \u001b[31m3.4 MB/s\u001b[0m eta \u001b[36m0:00:00\u001b[0m00:01\u001b[0m00:01\u001b[0m\n",
      "\u001b[?25hInstalling collected packages: intel-openmp, intel-cmplr-lic-rt, intel-cmplr-lib-rt, intel-opencl-rt, dpcpp-cpp-rt, onednn\n",
      "Successfully installed dpcpp-cpp-rt-2024.0.2 intel-cmplr-lib-rt-2024.0.2 intel-cmplr-lic-rt-2024.0.2 intel-opencl-rt-2024.0.2 intel-openmp-2024.0.2 onednn-2024.0.0\n",
      "Note: you may need to restart the kernel to use updated packages.\n"
     ]
    }
   ],
   "source": [
    "pip install onednn\n"
   ]
  },
  {
   "cell_type": "markdown",
   "id": "d7d060a2-0394-4355-bc4f-ef666d0c1dd0",
   "metadata": {
    "tags": []
   },
   "source": [
    "<h3 style=\"color:blue;\">Training the model in Intel Dev Cloud Using Intel TensorFlow Packages</h3>"
   ]
  },
  {
   "cell_type": "code",
   "execution_count": 2,
   "id": "927ed783-936c-48af-876c-301baf5d621c",
   "metadata": {},
   "outputs": [
    {
     "name": "stderr",
     "output_type": "stream",
     "text": [
      "2024-03-09 10:00:07.553163: I tensorflow/core/platform/cpu_feature_guard.cc:181] Beginning TensorFlow 2.15, this package will be updated to install stock TensorFlow 2.15 alongside Intel's TensorFlow CPU extension plugin, which provides all the optimizations available in the package and more. If a compatible version of stock TensorFlow is present, only the extension will get installed. No changes to code or installation setup is needed as a result of this change.\n",
      "More information on Intel's optimizations for TensorFlow, delivered as TensorFlow extension plugin can be viewed at https://github.com/intel/intel-extension-for-tensorflow.\n",
      "2024-03-09 10:00:07.553252: I tensorflow/core/platform/cpu_feature_guard.cc:192] This TensorFlow binary is optimized to use available CPU instructions in performance-critical operations.\n",
      "To enable the following instructions: AVX2 AVX512F FMA, in other operations, rebuild TensorFlow with the appropriate compiler flags.\n",
      "2024-03-09 10:00:22.981649: I tensorflow/core/common_runtime/process_util.cc:146] Creating new thread pool with default inter op setting: 2. Tune using inter_op_parallelism_threads for best performance.\n"
     ]
    },
    {
     "name": "stdout",
     "output_type": "stream",
     "text": [
      "Epoch 1/5\n",
      "778/778 [==============================] - 121s 151ms/step - loss: 0.3781 - accuracy: 0.8758 - val_loss: 0.2461 - val_accuracy: 0.9190\n",
      "Epoch 2/5\n",
      "778/778 [==============================] - 117s 151ms/step - loss: 0.1736 - accuracy: 0.9454 - val_loss: 0.2241 - val_accuracy: 0.9314\n",
      "Epoch 3/5\n",
      "778/778 [==============================] - 118s 152ms/step - loss: 0.0843 - accuracy: 0.9738 - val_loss: 0.2761 - val_accuracy: 0.9308\n",
      "Epoch 4/5\n",
      "778/778 [==============================] - 117s 151ms/step - loss: 0.0458 - accuracy: 0.9864 - val_loss: 0.3104 - val_accuracy: 0.9364\n",
      "Epoch 5/5\n",
      "778/778 [==============================] - 118s 151ms/step - loss: 0.0262 - accuracy: 0.9925 - val_loss: 0.3316 - val_accuracy: 0.9253\n",
      "244/244 [==============================] - 8s 31ms/step - loss: 0.3506 - accuracy: 0.9184\n",
      "Test Accuracy: 0.9183699488639832\n"
     ]
    },
    {
     "name": "stderr",
     "output_type": "stream",
     "text": [
      "/home/u215409/.local/lib/python3.9/site-packages/keras/src/engine/training.py:3079: UserWarning: You are saving your model as an HDF5 file via `model.save()`. This file format is considered legacy. We recommend using instead the native Keras format, e.g. `model.save('my_model.keras')`.\n",
      "  saving_api.save_model(\n"
     ]
    },
    {
     "name": "stdout",
     "output_type": "stream",
     "text": [
      "Model saved.\n",
      "Tokenizer and LabelEncoder saved.\n"
     ]
    },
    {
     "data": {
      "text/plain": [
       "(<keras.src.engine.sequential.Sequential at 0x7ff237ce2c40>,\n",
       " <keras.src.preprocessing.text.Tokenizer at 0x7ff237cfb5e0>,\n",
       " LabelEncoder())"
      ]
     },
     "execution_count": 2,
     "metadata": {},
     "output_type": "execute_result"
    }
   ],
   "source": [
    "\n",
    "#0-offensive 1-Hate 2-Neither\n",
    "\n",
    "import numpy as np\n",
    "import pandas as pd\n",
    "import pickle\n",
    "#-------------------------------------using intel packages------------------------------------------\n",
    "#import onednn as dnn\n",
    "from tensorflow.keras.models import Sequential,load_model\n",
    "from tensorflow.keras.layers import Embedding, LSTM, Dense, Dropout\n",
    "from tensorflow.keras.preprocessing.text import Tokenizer\n",
    "from tensorflow.keras.preprocessing.sequence import pad_sequences\n",
    "from bs4 import BeautifulSoup\n",
    "from sklearn.model_selection import train_test_split\n",
    "from sklearn.preprocessing import LabelEncoder\n",
    "#-----------------------------------------------------------------------------------------------------\n",
    "\n",
    "data=pd.read_csv('data/labeled_data.csv')\n",
    "#print(data)\n",
    "data = data.dropna()\n",
    "#X = ['hi', 'idiot', 'u are black']\n",
    "#y = [2, 0, 1]\n",
    "X=data['tweet']\n",
    "y=data['class']\n",
    "#print('X',X)\n",
    "#print(y)\n",
    "def create_and_train_model(X, y):\n",
    "    \n",
    "    label_encoder = LabelEncoder()\n",
    "    y_encoded = label_encoder.fit_transform(y)\n",
    "\n",
    "    \n",
    "    tokenizer = Tokenizer()\n",
    "    tokenizer.fit_on_texts(X)\n",
    "    sequences = tokenizer.texts_to_sequences(X)\n",
    "    X_padded = pad_sequences(sequences)\n",
    "\n",
    "    \n",
    "    X_train, X_test, y_train, y_test = train_test_split(X_padded, y_encoded, test_size=0.2, random_state=42)\n",
    "\n",
    "    \n",
    "    model = Sequential()\n",
    "    model.add(Embedding(input_dim=len(tokenizer.word_index) + 1, output_dim=100, input_length=X_padded.shape[1]))\n",
    "    model.add(LSTM(units=50, return_sequences=True))\n",
    "    model.add(LSTM(units=50))\n",
    "    model.add(Dense(units=64, activation='relu'))\n",
    "    model.add(Dropout(0.5))\n",
    "    model.add(Dense(units=len(np.unique(y_encoded)), activation='softmax'))  \n",
    "\n",
    "    \n",
    "    model.compile(optimizer='adam', loss='sparse_categorical_crossentropy', metrics=['accuracy'])\n",
    "\n",
    "    \n",
    "    model.fit(X_train, y_train, epochs=5, batch_size=32, validation_split=0.2)\n",
    "\n",
    "    \n",
    "    loss, accuracy = model.evaluate(X_test, y_test)\n",
    "    print(f\"Test Accuracy: {accuracy}\")\n",
    "\n",
    "    model.save('D:/content_moderation_model.h5')\n",
    "    print(\"Model saved.\")\n",
    "\n",
    "    \n",
    "    with open('D:/tokenizer.pkl', 'wb') as file:\n",
    "        pickle.dump(tokenizer, file)\n",
    "\n",
    "    with open('D:/ label_encoder.pkl', 'wb') as file:\n",
    "        pickle.dump(label_encoder, file)\n",
    "\n",
    "    print(\"Tokenizer and LabelEncoder saved.\")\n",
    "\n",
    "    \n",
    "\n",
    "    return model, tokenizer, label_encoder\n",
    "\n",
    "create_and_train_model(X,y)\n",
    "\n"
   ]
  },
  {
   "cell_type": "markdown",
   "id": "fcdd0b65-753d-41f3-a708-7111266ef774",
   "metadata": {},
   "source": [
    "<h2 style=\"color:blue;\">Predicting With the Model Saved in Intel Cloud</h2>"
   ]
  },
  {
   "cell_type": "code",
   "execution_count": 9,
   "id": "219b5c00-dad4-45b6-88a7-4d1dfa8ebda7",
   "metadata": {},
   "outputs": [
    {
     "name": "stdout",
     "output_type": "stream",
     "text": [
      "Model, Tokenizer, and LabelEncoder loaded.\n",
      "1/1 [==============================] - 1s 517ms/step\n",
      "Inappropriate Content\n"
     ]
    }
   ],
   "source": [
    "import warnings\n",
    "warnings.filterwarnings('ignore' )\n",
    "def predict_with_model(model, tokenizer, label_encoder, input_text):\n",
    "    input_sequence = tokenizer.texts_to_sequences([input_text])\n",
    "    padded_sequence = pad_sequences(input_sequence, maxlen=model.input_shape[1])\n",
    "\n",
    "   \n",
    "    predicted_probabilities = model.predict(padded_sequence)\n",
    "    predicted_class = np.argmax(predicted_probabilities)\n",
    "    predicted_label = label_encoder.inverse_transform([predicted_class])[0]\n",
    "    confidence = predicted_probabilities[0][predicted_class]\n",
    "\n",
    "    if confidence <= 0.6:\n",
    "        predicted_label=2\n",
    "    \n",
    "\n",
    "\n",
    "    \n",
    "    #print(\"\\nInput Text:\")\n",
    "    #print(f\"- {input_text}\")\n",
    "\n",
    "    #print(\"\\nPredicted Probabilities:\")\n",
    "    #print(predicted_probabilities)\n",
    "\n",
    "    #print(\"\\nPredicted Class:\")\n",
    "    #print(predicted_label)\n",
    "    return predicted_label\n",
    "\n",
    "def load_saved_model():\n",
    "    \n",
    "    loaded_model = load_model('D:/content_moderation_model.h5')\n",
    "\n",
    "    \n",
    "    with open('D:/tokenizer.pkl', 'rb') as file:\n",
    "        loaded_tokenizer = pickle.load(file)\n",
    "\n",
    "    with open('D:/ label_encoder.pkl', 'rb') as file:  # Corrected file name\n",
    "        loaded_label_encoder = pickle.load(file)\n",
    "\n",
    "    print(\"Model, Tokenizer, and LabelEncoder loaded.\")\n",
    "    return loaded_model, loaded_tokenizer, loaded_label_encoder\n",
    "\n",
    "\n",
    "data=pd.read_csv('data/labeled_data.csv')\n",
    "#print(data)\n",
    "#X = ['hi', 'idiot', 'u are black']\n",
    "#y = [2, 0, 1]\n",
    "X=data['tweet']\n",
    "y=data['class']\n",
    "#print('X',X)\n",
    "#print(y)\n",
    "def input_model(content):\n",
    "    #print(content)\n",
    "    prediction=[]\n",
    "    train_model=False\n",
    "    if train_model:\n",
    "        trained_model, tokenizer, label_encoder = create_and_train_model(X, y)\n",
    "    else:\n",
    "        trained_model, tokenizer, label_encoder = load_saved_model()\n",
    "\n",
    "    result_string = content.replace('\"', '').replace(\"'\", '')\n",
    "\n",
    "    soup = BeautifulSoup(content, 'html.parser')\n",
    "    p_tag = soup.find_all('p')\n",
    "    #print(\"p_tag\",p_tag)\n",
    "    for i in p_tag:\n",
    "        #print(i)\n",
    "        cleaned_text = i.get_text(separator=' ', strip=True) if i else ''\n",
    "        #print(cleaned_text)\n",
    "        a=predict_with_model(trained_model, tokenizer, label_encoder, cleaned_text)\n",
    "        prediction.append(a)\n",
    "        #print(\"Predictions\",prediction)\n",
    "    \n",
    "    return prediction\n",
    "\n",
    "a=input_model('<p><img alt=\"\" src=\"/media/uploads/2023/12/04/test2-94.jpg\" style=\"height:200px; width:150px\" />You are nothing but a waste of space in this bloody world... idiot i hate u so much you black people dont belong here hell dammit shit bloody losers</p>')\n",
    "for i in a:\n",
    "    if(i==0 or i==1):\n",
    "        print(\"Inappropriate Content\")\n",
    "    else:\n",
    "        print(\"Accepted Content\")"
   ]
  }
 ],
 "metadata": {
  "kernelspec": {
   "display_name": "Python 3 (Intel® oneAPI 2024)",
   "language": "python",
   "name": "c009-intel_distribution_of_python_3_oneapi-beta05-python-2024"
  },
  "language_info": {
   "codemirror_mode": {
    "name": "ipython",
    "version": 3
   },
   "file_extension": ".py",
   "mimetype": "text/x-python",
   "name": "python",
   "nbconvert_exporter": "python",
   "pygments_lexer": "ipython3",
   "version": "3.9.18"
  }
 },
 "nbformat": 4,
 "nbformat_minor": 5
}
